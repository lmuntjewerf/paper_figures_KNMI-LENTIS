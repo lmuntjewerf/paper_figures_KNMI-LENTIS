{
 "cells": [
  {
   "cell_type": "code",
   "execution_count": 1,
   "id": "64cde486-1aee-435c-a61a-c24f2bd60a68",
   "metadata": {},
   "outputs": [],
   "source": [
    "import os\n",
    "import sys\n",
    "libdir = os.path.dirname('/usr/people/muntjewe/git/laura_scripts/')\n",
    "sys.path.insert(0, libdir) \n",
    "\n",
    "from libpyvarex import libtimeseries"
   ]
  },
  {
   "cell_type": "code",
   "execution_count": 2,
   "id": "91f36426-1186-426d-8804-06ab54360b99",
   "metadata": {},
   "outputs": [],
   "source": [
    "import numpy as np\n",
    "import xarray as xr"
   ]
  },
  {
   "cell_type": "markdown",
   "id": "355dbe4c-b3ff-4955-b9de-dfc6c3786be4",
   "metadata": {
    "tags": []
   },
   "source": [
    "### Open the data from LENTIS PD and from 2K "
   ]
  },
  {
   "cell_type": "code",
   "execution_count": 3,
   "id": "3ece4a56",
   "metadata": {},
   "outputs": [],
   "source": [
    "ds_tas_PD=xr.open_mfdataset('/usr/people/muntjewe/nobackup/nobackup_1/LENTIS/PD/Amon/tas/tas*.nc',combine='nested',concat_dim='ens')\n",
    "tas_PD=ds_tas_PD['tas']"
   ]
  },
  {
   "cell_type": "code",
   "execution_count": 4,
   "id": "155c3fb4",
   "metadata": {},
   "outputs": [],
   "source": [
    "ds_tas_2K=xr.open_mfdataset('/usr/people/muntjewe/nobackup/nobackup_1/LENTIS/2K/Amon/tas/tas*.nc',combine='nested',concat_dim='ens')\n",
    "tas_2K=ds_tas_2K['tas']"
   ]
  },
  {
   "cell_type": "markdown",
   "id": "21eecc4b",
   "metadata": {},
   "source": [
    "# align the time dimension, necessary for subtracting 2 xarray datasets\n",
    "to check if it worked, run the following (this should not give an error): \n",
    "`xr.align(tas_PD, tas_2K, join='exact')`"
   ]
  },
  {
   "cell_type": "code",
   "execution_count": null,
   "id": "079ebcce",
   "metadata": {},
   "outputs": [],
   "source": [
    "tas_2K['time'] = tas_PD['time']"
   ]
  },
  {
   "cell_type": "markdown",
   "id": "e48afcf1",
   "metadata": {},
   "source": [
    "### compute and print seasonal mean and std dev of the differences"
   ]
  },
  {
   "cell_type": "code",
   "execution_count": 11,
   "id": "fc6ace42",
   "metadata": {},
   "outputs": [],
   "source": [
    "\n",
    "diff_season = tas_2K - tas_PD \n",
    "diff_mean = diff_season.mean(dim='ens').groupby('time.season').mean(dim='time')\n",
    "diff_std = diff_season.std(dim='ens').groupby('time.season').mean(dim='time')"
   ]
  },
  {
   "cell_type": "code",
   "execution_count": 14,
   "id": "d93cabaa",
   "metadata": {},
   "outputs": [
    {
     "name": "stdout",
     "output_type": "stream",
     "text": [
      "Now we are computing some statistics of the tas differences between PD an 2K\n",
      "Global biases\n",
      "DJF = 2.02 (ens stddev: 1.51)\n",
      "JJA = 1.9 (ens stddev: 1.23)\n",
      "MAM = 1.83 (ens stddev: 1.39)\n",
      "SON = 2.06 (ens stddev: 1.26)\n",
      "ANN = 1.95 (ens stddev: 1.35)\n",
      "\n",
      "Northern Hemisphere biases\n",
      "DJF = 2.67 (ens stddev: 1.99)\n",
      "JJA = 2.42 (ens stddev: 1.37)\n",
      "MAM = 2.29 (ens stddev: 1.72)\n",
      "SON = 2.72 (ens stddev: 1.49)\n",
      "== ANN: 2.52 (ens stddev: 2.52)\n",
      "\n",
      "Europe biases\n",
      "DJF = 2.4 (ens stddev: 2.58)\n",
      "JJA = 2.81 (ens stddev: 1.86)\n",
      "MAM = 2.29 (ens stddev: 2.16)\n",
      "SON = 2.69 (ens stddev: 1.9)\n",
      "== ANN: 2.55 (ens stddev: 2.55)\n"
     ]
    }
   ],
   "source": [
    "print('Now we are computing some statistics of the tas differences between PD an 2K (takes a long time!!')\n",
    "\n",
    "\n",
    "\n",
    "print('Global')\n",
    "## Explicit conversion by wrapping a DataArray with np.asarray also works. I need to do this to access values. See https://docs.xarray.dev/en/v0.9.3/dask.html\n",
    "glbias = (np.asarray(libtimeseries.boxmean(diff_mean))) \n",
    "glstd = (np.asarray(libtimeseries.boxmean(diff_std))) \n",
    "print(str(libtimeseries.boxmean(diff_mean).season[0].values)+' = '+str(np.round(glbias[0],2))+' (ens stddev: '+str(np.round(glstd[0],2))+')')\n",
    "print(str(libtimeseries.boxmean(diff_mean).season[1].values)+' = '+str(np.round(glbias[1],2))+' (ens stddev: '+str(np.round(glstd[1],2))+')')\n",
    "print(str(libtimeseries.boxmean(diff_mean).season[2].values)+' = '+str(np.round(glbias[2],2))+' (ens stddev: '+str(np.round(glstd[2],2))+')')\n",
    "print(str(libtimeseries.boxmean(diff_mean).season[3].values)+' = '+str(np.round(glbias[3],2))+' (ens stddev: '+str(np.round(glstd[3],2))+')')\n",
    "print('ANN = '+str(np.round(glbias.mean(),2))+' (ens stddev: '+str(np.round(glstd.mean(),2))+')')\n",
    "print('')\n",
    "nhbias = (np.asarray(libtimeseries.NHboxmean(diff_mean))) \n",
    "nhstd = (np.asarray(libtimeseries.NHboxmean(diff_std))) \n",
    "print('Northern Hemisphere')\n",
    "print(str(libtimeseries.boxmean(diff_mean).season[0].values)+' = '+str(np.round(nhbias[0],2))+' (ens stddev: '+str(np.round(nhstd[0],2))+')')\n",
    "print(str(libtimeseries.boxmean(diff_mean).season[1].values)+' = '+str(np.round(nhbias[1],2))+' (ens stddev: '+str(np.round(nhstd[1],2))+')')\n",
    "print(str(libtimeseries.boxmean(diff_mean).season[2].values)+' = '+str(np.round(nhbias[2],2))+' (ens stddev: '+str(np.round(nhstd[2],2))+')')\n",
    "print(str(libtimeseries.boxmean(diff_mean).season[3].values)+' = '+str(np.round(nhbias[3],2))+' (ens stddev: '+str(np.round(nhstd[3],2))+')')\n",
    "print('== ANN: '+str(np.round(nhbias.mean(),2))+' (ens stddev: '+str(np.round(nhbias.mean(),2))+')')\n",
    "print('')\n",
    "eubias = (np.asarray(libtimeseries.EUboxmean(diff_mean))) \n",
    "eustd = (np.asarray(libtimeseries.EUboxmean(diff_std))) \n",
    "print('Europe')\n",
    "print(str(libtimeseries.boxmean(diff_mean).season[0].values)+' = '+str(np.round(eubias[0],2))+' (ens stddev: '+str(np.round(eustd[0],2))+')')\n",
    "print(str(libtimeseries.boxmean(diff_mean).season[1].values)+' = '+str(np.round(eubias[1],2))+' (ens stddev: '+str(np.round(eustd[1],2))+')')\n",
    "print(str(libtimeseries.boxmean(diff_mean).season[2].values)+' = '+str(np.round(eubias[2],2))+' (ens stddev: '+str(np.round(eustd[2],2))+')')\n",
    "print(str(libtimeseries.boxmean(diff_mean).season[3].values)+' = '+str(np.round(eubias[3],2))+' (ens stddev: '+str(np.round(eustd[3],2))+')')\n",
    "print('== ANN: '+str(np.round(eubias.mean(),2))+' (ens stddev: '+str(np.round(eubias.mean(),2))+')')"
   ]
  }
 ],
 "metadata": {
  "kernelspec": {
   "display_name": "Python 3 (ipykernel)",
   "language": "python",
   "name": "python3"
  },
  "language_info": {
   "codemirror_mode": {
    "name": "ipython",
    "version": 3
   },
   "file_extension": ".py",
   "mimetype": "text/x-python",
   "name": "python",
   "nbconvert_exporter": "python",
   "pygments_lexer": "ipython3",
   "version": "3.9.5"
  },
  "vscode": {
   "interpreter": {
    "hash": "c73f727b6fa51998c2002baea8905687ec8c32318f292fd9c6441b744c90acec"
   }
  }
 },
 "nbformat": 4,
 "nbformat_minor": 5
}
