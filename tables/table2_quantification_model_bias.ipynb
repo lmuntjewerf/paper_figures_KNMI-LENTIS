{
 "cells": [
  {
   "cell_type": "code",
   "execution_count": 1,
   "id": "64cde486-1aee-435c-a61a-c24f2bd60a68",
   "metadata": {},
   "outputs": [],
   "source": [
    "import os\n",
    "import sys\n",
    "libdir = os.path.dirname('/usr/people/muntjewe/git/laura_scripts/')\n",
    "sys.path.insert(0, libdir) \n",
    "\n",
    "\n",
    "from libpyvarex import libplot\n",
    "from libpyvarex import libtimeseries"
   ]
  },
  {
   "cell_type": "code",
   "execution_count": 4,
   "id": "0e17c029-7fa0-45f6-a0a1-34155d38d575",
   "metadata": {},
   "outputs": [],
   "source": [
    "import pandas as pd"
   ]
  },
  {
   "cell_type": "code",
   "execution_count": 6,
   "id": "91f36426-1186-426d-8804-06ab54360b99",
   "metadata": {},
   "outputs": [],
   "source": [
    "import numpy as np\n",
    "import xarray as xr"
   ]
  },
  {
   "cell_type": "markdown",
   "id": "355dbe4c-b3ff-4955-b9de-dfc6c3786be4",
   "metadata": {
    "tags": []
   },
   "source": [
    "### Open the data from LENTIS and from ERA5 "
   ]
  },
  {
   "cell_type": "code",
   "execution_count": 8,
   "id": "d1fd6ea9-1dd3-457e-bf23-f34a52035b79",
   "metadata": {
    "jupyter": {
     "source_hidden": true
    },
    "tags": []
   },
   "outputs": [],
   "source": [
    "ds_tas=xr.open_mfdataset('/usr/people/muntjewe/nobackup/nobackup_1/LENTIS/PD/Amon/tas/tas*.nc',combine='nested',concat_dim='ens')\n",
    "tas=ds_tas['tas']"
   ]
  },
  {
   "cell_type": "code",
   "execution_count": 9,
   "id": "8b06dc1d-9bb4-4c78-b07c-31a705ff0978",
   "metadata": {},
   "outputs": [],
   "source": [
    "ds_ERA=xr.open_dataset('/net/pc200021/nobackup_1/users/muntjewe/LENTIS/lproc/ERA/era5_t2m_ECE3grid_1991001-202012.nc',decode_times=False)\n",
    "units, reference_date = ds_ERA.time.attrs['units'].split('since')\n",
    "ds_ERA['time'] = pd.date_range(start=reference_date, periods=ds_ERA.sizes['time'], freq='MS')\n",
    "\n",
    "tasERA=ds_ERA['t2m']"
   ]
  },
  {
   "cell_type": "markdown",
   "id": "54225463-1731-43dc-be39-6173a9c5cd0f",
   "metadata": {
    "tags": []
   },
   "source": [
    "### Do some basic statistics\n",
    "\n",
    "To calculate the absolute bias and stddev."
   ]
  },
  {
   "cell_type": "code",
   "execution_count": 2,
   "id": "292a6884-798a-4939-984f-8635fe0c05f0",
   "metadata": {},
   "outputs": [],
   "source": [
    "\n",
    "print('Now we are computing some statistics of the tas bias')\n",
    "\n",
    "ECE_seasons = tas.mean(dim='ens').groupby('time.season').mean(dim='time')\n",
    "ECE_seasons_std = tas.std(dim='ens').groupby('time.season').mean(dim='time')\n",
    "\n",
    "ERA_seasons = tasERA.groupby('time.season').mean(dim='time')\n",
    "anom_season = ECE_seasons - ERA_seasons\n",
    "\n",
    "\n",
    "print('Global biases')\n",
    "## Explicit conversion by wrapping a DataArray with np.asarray also works. I need to do this to access values. See https://docs.xarray.dev/en/v0.9.3/dask.html\n",
    "glbias = (np.asarray(libtimeseries.boxmean(anom_season))) \n",
    "glstd = (np.asarray(libtimeseries.boxmean(ECE_seasons_std))) \n",
    "print(str(libtimeseries.boxmean(anom_season).season[0].values)+' = '+str(np.round(glbias[0],2))+' (ens stddev: '+str(np.round(glstd[0],2))+')')\n",
    "print(str(libtimeseries.boxmean(anom_season).season[1].values)+' = '+str(np.round(glbias[1],2))+' (ens stddev: '+str(np.round(glstd[1],2))+')')\n",
    "print(str(libtimeseries.boxmean(anom_season).season[2].values)+' = '+str(np.round(glbias[2],2))+' (ens stddev: '+str(np.round(glstd[2],2))+')')\n",
    "print(str(libtimeseries.boxmean(anom_season).season[3].values)+' = '+str(np.round(glbias[3],2))+' (ens stddev: '+str(np.round(glstd[3],2))+')')\n",
    "print('ANN = '+str(np.round(glbias.mean(),2))+' (ens stddev: '+str(np.round(glstd.mean(),2))+')')\n",
    "print('')\n",
    "nhbias = (np.asarray(libtimeseries.NHboxmean(anom_season))) \n",
    "nhstd = (np.asarray(libtimeseries.NHboxmean(ECE_seasons_std))) \n",
    "print('Northern Hemisphere biases')\n",
    "print(str(libtimeseries.boxmean(anom_season).season[0].values)+' = '+str(np.round(nhbias[0],2))+' (ens stddev: '+str(np.round(nhstd[0],2))+')')\n",
    "print(str(libtimeseries.boxmean(anom_season).season[1].values)+' = '+str(np.round(nhbias[1],2))+' (ens stddev: '+str(np.round(nhstd[1],2))+')')\n",
    "print(str(libtimeseries.boxmean(anom_season).season[2].values)+' = '+str(np.round(nhbias[2],2))+' (ens stddev: '+str(np.round(nhstd[2],2))+')')\n",
    "print(str(libtimeseries.boxmean(anom_season).season[3].values)+' = '+str(np.round(nhbias[3],2))+' (ens stddev: '+str(np.round(nhstd[3],2))+')')\n",
    "print('== ANN: '+str(np.round(nhbias.mean(),2))+' (ens stddev: '+str(np.round(nhbias.mean(),2))+')')\n",
    "print('')\n",
    "eubias = (np.asarray(libtimeseries.EUboxmean(anom_season))) \n",
    "eustd = (np.asarray(libtimeseries.EUboxmean(ECE_seasons_std))) \n",
    "print('Europe biases')\n",
    "print(str(libtimeseries.boxmean(anom_season).season[0].values)+' = '+str(np.round(eubias[0],2))+' (ens stddev: '+str(np.round(eustd[0],2))+')')\n",
    "print(str(libtimeseries.boxmean(anom_season).season[1].values)+' = '+str(np.round(eubias[1],2))+' (ens stddev: '+str(np.round(eustd[1],2))+')')\n",
    "print(str(libtimeseries.boxmean(anom_season).season[2].values)+' = '+str(np.round(eubias[2],2))+' (ens stddev: '+str(np.round(eustd[2],2))+')')\n",
    "print(str(libtimeseries.boxmean(anom_season).season[3].values)+' = '+str(np.round(eubias[3],2))+' (ens stddev: '+str(np.round(eustd[3],2))+')')\n",
    "print('== ANN: '+str(np.round(eubias.mean(),2))+' (ens stddev: '+str(np.round(eubias.mean(),2))+')')\n",
    "\n",
    "NAbias = (np.asarray(libtimeseries.NAboxmean(anom_season))) \n",
    "NAstd = (np.asarray(libtimeseries.NAboxmean(ECE_seasons_std))) \n",
    "print('North America biases')\n",
    "print(str(libtimeseries.boxmean(anom_season).season[0].values)+' = '+str(np.round(NAbias[0],2))+' (ens stddev: '+str(np.round(NAstd[0],2))+')')\n",
    "print(str(libtimeseries.boxmean(anom_season).season[1].values)+' = '+str(np.round(NAbias[1],2))+' (ens stddev: '+str(np.round(NAstd[1],2))+')')\n",
    "print(str(libtimeseries.boxmean(anom_season).season[2].values)+' = '+str(np.round(NAbias[2],2))+' (ens stddev: '+str(np.round(NAstd[2],2))+')')\n",
    "print(str(libtimeseries.boxmean(anom_season).season[3].values)+' = '+str(np.round(NAbias[3],2))+' (ens stddev: '+str(np.round(NAstd[3],2))+')')\n",
    "print('== ANN: '+str(np.round(NAbias.mean(),2))+' (ens stddev: '+str(np.round(NAbias.mean(),2))+')')\n",
    "\n",
    "SAbias = (np.asarray(libtimeseries.SAboxmean(anom_season))) \n",
    "SAstd = (np.asarray(libtimeseries.SAboxmean(ECE_seasons_std))) \n",
    "print('South and Southeast Asia biases')\n",
    "print(str(libtimeseries.boxmean(anom_season).season[0].values)+' = '+str(np.round(SAbias[0],2))+' (ens stddev: '+str(np.round(SAstd[0],2))+')')\n",
    "print(str(libtimeseries.boxmean(anom_season).season[1].values)+' = '+str(np.round(SAbias[1],2))+' (ens stddev: '+str(np.round(SAstd[1],2))+')')\n",
    "print(str(libtimeseries.boxmean(anom_season).season[2].values)+' = '+str(np.round(SAbias[2],2))+' (ens stddev: '+str(np.round(SAstd[2],2))+')')\n",
    "print(str(libtimeseries.boxmean(anom_season).season[3].values)+' = '+str(np.round(SAbias[3],2))+' (ens stddev: '+str(np.round(SAstd[3],2))+')')\n",
    "print('== ANN: '+str(np.round(SAbias.mean(),2))+' (ens stddev: '+str(np.round(SAbias.mean(),2))+')')"
   ]
  }
 ],
 "metadata": {
  "kernelspec": {
   "display_name": "Python 3.9.5 ('base')",
   "language": "python",
   "name": "python3"
  },
  "language_info": {
   "codemirror_mode": {
    "name": "ipython",
    "version": 3
   },
   "file_extension": ".py",
   "mimetype": "text/x-python",
   "name": "python",
   "nbconvert_exporter": "python",
   "pygments_lexer": "ipython3",
   "version": "3.9.5"
  },
  "vscode": {
   "interpreter": {
    "hash": "c73f727b6fa51998c2002baea8905687ec8c32318f292fd9c6441b744c90acec"
   }
  }
 },
 "nbformat": 4,
 "nbformat_minor": 5
}
