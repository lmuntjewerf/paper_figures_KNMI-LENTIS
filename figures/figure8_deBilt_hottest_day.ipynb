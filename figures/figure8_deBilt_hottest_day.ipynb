{
 "cells": [
  {
   "cell_type": "markdown",
   "id": "41023453",
   "metadata": {},
   "source": [
    "## Example use: climate extreme \n",
    "\n",
    "Author: Laura Muntjewerf, 2022\n",
    "\n",
    "Aim of the case study: show the advantage of large ensemble modelling for extreme weather."
   ]
  },
  {
   "cell_type": "code",
   "execution_count": 1,
   "id": "0d0d9bd8-bf37-4090-8a14-71aefa25f988",
   "metadata": {},
   "outputs": [],
   "source": [
    "import numpy as np\n",
    "import xarray as xr"
   ]
  },
  {
   "cell_type": "code",
   "execution_count": 2,
   "id": "6f4eef6f-6437-4157-a563-37eb05f3a6a2",
   "metadata": {},
   "outputs": [],
   "source": [
    "import matplotlib.pyplot as plt"
   ]
  },
  {
   "cell_type": "code",
   "execution_count": 3,
   "id": "23d37cb9-efc1-4d80-bb61-1887cf79ea04",
   "metadata": {},
   "outputs": [],
   "source": [
    "import matplotlib.gridspec as gridspec\n",
    "import cmocean.cm as cmo\n",
    "from matplotlib import cm"
   ]
  },
  {
   "cell_type": "code",
   "execution_count": 4,
   "id": "34d6cb68-017e-4d0c-913c-5f9c8b58aaf8",
   "metadata": {},
   "outputs": [],
   "source": [
    "import cartopy.crs as ccrs\n",
    "from cartopy.mpl.ticker import LongitudeFormatter, LatitudeFormatter"
   ]
  },
  {
   "cell_type": "code",
   "execution_count": 5,
   "id": "dc4e2554-b49d-498a-9fa3-89848e9e0862",
   "metadata": {},
   "outputs": [],
   "source": [
    "import os\n",
    "import sys\n",
    "libdir = os.path.dirname('/usr/people/muntjewe/git/laura_scripts/')\n",
    "sys.path.insert(0, libdir) \n",
    "\n",
    "\n",
    "from libpyvarex import libplot\n",
    "from libpyvarex import libtimeseries\n"
   ]
  },
  {
   "cell_type": "code",
   "execution_count": 6,
   "id": "6bdcf594-6461-4e4a-95da-626747a97a97",
   "metadata": {},
   "outputs": [],
   "source": [
    "# Name some Cartopy projections for ease of use\\n\",\n",
    "myproj = ccrs.PlateCarree()\n",
    "LENTISnobackup = 'LENTISnobackupfolder'"
   ]
  },
  {
   "cell_type": "markdown",
   "id": "21239295-413d-478a-b323-e7e18cd8f8f2",
   "metadata": {},
   "source": [
    "# open the dataset"
   ]
  },
  {
   "cell_type": "code",
   "execution_count": 40,
   "id": "eb90b578-725f-446b-a63b-7b09e4c2447f",
   "metadata": {},
   "outputs": [],
   "source": [
    "# this opens 1 DOY (1st aug) on 1 gridpoint\n",
    "\n",
    "def preprocess(ds):\n",
    "    '''keep only specified lat and lon for each file'''\n",
    "    return ds.sel(lat=52,lon=5, method=\"nearest\").sel(time=slice(\"2001-08-20\",\"2001-08-24\"))"
   ]
  },
  {
   "cell_type": "markdown",
   "id": "ae4896f6-195c-4ddf-aef4-0c08824d8445",
   "metadata": {},
   "source": [
    "# plot the data, have a look"
   ]
  },
  {
   "cell_type": "code",
   "execution_count": 217,
   "id": "d172f288-9ebe-476b-b64b-ed3ad38eaeac",
   "metadata": {},
   "outputs": [],
   "source": [
    "ds_tasmax=xr.open_dataset(f'{LENTISnobackup}/PD/day/tasmax/tasmax_h130.nc')\n",
    "ds_psl=xr.open_dataset(f'{LENTISnobackup}/PD/day/psl/psl_h130.nc')"
   ]
  },
  {
   "cell_type": "code",
   "execution_count": 220,
   "id": "fe84805d-df20-47f3-922b-4a2c49464a13",
   "metadata": {},
   "outputs": [],
   "source": [
    "max_tasmax=ds_tasmax['tasmax'].sel(time=\"2001-08-22 12:00:00\")-273.15\n",
    "dan_psl=ds_psl['psl'].sel(time=\"2001-08-22 12:00:00\")"
   ]
  },
  {
   "cell_type": "code",
   "execution_count": 3,
   "id": "ec1780a8-089b-44c8-a504-3b905a1bfb32",
   "metadata": {},
   "outputs": [],
   "source": [
    "# ============================  fig 1\n",
    " \n",
    " \n",
    "fig = plt.figure(figsize=(14,3.5))\n",
    "\n",
    "gs = gridspec.GridSpec(1, 2, figure=fig)\n",
    "ax = libplot.define_europe_map(fig,sps=gs[0,0])\n",
    "\n",
    "vmin1=10\n",
    "vmax1=40\n",
    "cmap1=cm.YlOrRd #cmo.matter\n",
    "\n",
    "vmin2=99000\n",
    "vmax2=103000\n",
    "\n",
    "cmap2=cm.seismic #jet #cmo.thermal\n",
    "\n",
    "cn = max_tasmax.plot.imshow(robust=True, ax=ax, transform=myproj, add_colorbar=True, extend='both',vmin=vmin1, vmax=vmax1, cmap=cmap1 )\n",
    "cs = dan_psl.plot.contour(robust=True, ax=ax, transform=myproj, colors='k',vmin=vmin2, vmax=vmax2,  levels=21)\n",
    "ax.clabel(cs,  inline=True, fontsize=9)\n",
    "ax.set_title('')\n",
    "ax.set_title('(a) Daily Maximum Near-Surface Air Temperature',loc='left',fontsize=14)\n",
    "\n",
    "\n",
    "\n",
    " # ============================  fig 2\n",
    "\n",
    "\n",
    "ax2 = plt.subplot(1,2,2)\n",
    "\n",
    "\n",
    "for var in [\"hfls\", \"hfss\", \"rsds\", \"rsus\", \"rlds\", \"rlus\"]:\n",
    "    file=f'{LENTISnobackup}/PD/3hr/\"+var+\"/\"+var+\"_h130.nc'\n",
    "    ds = xr.open_mfdataset(file, preprocess=preprocess)\n",
    "    ds[var].plot(label=var)\n",
    "\n",
    "ax2.axvspan(\"2001-08-22\",\"2001-08-23\", alpha=0.5, color='pink')\n",
    "ax2.legend(frameon=False,fontsize=12,loc='upper left', bbox_to_anchor=(1, 0.5))\n",
    "ax2.set_title('')\n",
    "ax2.set_title('(b) Surface Energy Balance in De Bilt, Netherlands',loc='left',fontsize=14)\n",
    "ax2.set_ylabel('[Wm$^{2}$]',fontsize=12)\n",
    "ax2.grid()\n",
    "\n",
    "plt.show()\n",
    "\n",
    " # ============================  fig 3\n",
    "     \n",
    "\n",
    "vmin1=10\n",
    "vmax1=40\n",
    "cmap1=cm.YlOrRd #cmo.matter\n",
    "\n",
    "vmin2=98000\n",
    "vmax2=103000\n",
    "\n",
    "cmap2=cm.bwr #jet #cmo.thermal\n",
    "\n",
    "\n",
    "\n",
    "fig = plt.figure(figsize=(16,8))\n",
    "gs = gridspec.GridSpec(2, 1, figure=fig)\n",
    "\n",
    "ax3 = libplot.define_nh_map(fig,sps=gs[1,0])\n",
    "\n",
    "cs = dan_psl.plot.imshow(robust=True, ax=ax3, transform=myproj, add_colorbar=True, extend='both',vmin=vmin2, vmax=vmax2, cmap=cmap2 )\n",
    "cs = dan_psl.plot.contour(robust=True, ax=ax3, transform=myproj, colors='k',vmin=vmin2, vmax=vmax2,  levels=11)\n",
    "ax3.clabel(cs,  inline=True, fontsize=9)\n",
    "ax3.set_title('')\n",
    "ax3.set_title('(c) ' + dan_psl.long_name+ ' (ensemble member=h130, time=2001-08-22)',loc='left',fontsize=14)\n",
    "\n",
    "\n",
    "plt.show()\n",
    "\n"
   ]
  }
 ],
 "metadata": {
  "kernelspec": {
   "display_name": "Python 3.10.11 64-bit",
   "language": "python",
   "name": "python3"
  },
  "language_info": {
   "codemirror_mode": {
    "name": "ipython",
    "version": 3
   },
   "file_extension": ".py",
   "mimetype": "text/x-python",
   "name": "python",
   "nbconvert_exporter": "python",
   "pygments_lexer": "ipython3",
   "version": "3.10.11"
  },
  "vscode": {
   "interpreter": {
    "hash": "767d51c1340bd893661ea55ea3124f6de3c7a262a8b4abca0554b478b1e2ff90"
   }
  }
 },
 "nbformat": 4,
 "nbformat_minor": 5
}
